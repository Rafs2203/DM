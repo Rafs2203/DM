{
 "cells": [
  {
   "cell_type": "markdown",
   "metadata": {},
   "source": [
    "<div class=\"alert alert-block alert-info\"> <br>\n",
    "\n",
    "#  <center> <b> Data Mining Project- ABCDEats Inc. </center> <br>\n",
    "## <center> Clustering Models </center> <br>\n",
    "### <center> Group 38 <center>\n",
    "\n",
    "  <div>"
   ]
  },
  {
   "cell_type": "markdown",
   "metadata": {},
   "source": [
    "### Group Members\n",
    "| Name              | Email                        | Student ID |\n",
    "|-------------------|------------------------------|------------|\n",
    "| Inês Araújo       | 20240532@novaims.unl.pt      | 20240532   |\n",
    "| Leonor Mira       | 20240658@novaims.unl.pt      | 20240658   |\n",
    "| Rafael Silva      | 20240511@novaims.unl.pt      | 20240511   |\n",
    "| Rita Serra        | 20240515@novaims.unl.pt      | 20240515   |"
   ]
  },
  {
   "cell_type": "markdown",
   "metadata": {},
   "source": [
    "---\n",
    "\n",
    "### **2. Clustering Techniques Notebook**\n",
    "**Description:**\n",
    "In this notebook, we will experiment with and evaluate various clustering techniques to uncover patterns and groupings within the data. The focus will be on the following methods:\n",
    "\n",
    "- **Hierarchical Clustering:** Organizes the data into a hierarchy of clusters, providing insights into relationships at multiple levels of granularity.\n",
    "- **K-Means Clustering:** Partitions the data into a predefined number of clusters (`k`), optimizing similarity within each group.\n",
    "- **Self-Organizing Maps (SOMs):** Uses neural network-based methods to project high-dimensional data into a lower-dimensional map, revealing complex clustering patterns.\n",
    "\n",
    "Key steps include:\n",
    "- Loading the **dataset** for clustering analysis.\n",
    "- Applying **preprocessing and normalization** to prepare the data for clustering.\n",
    "- **Implementing clustering algorithms**: Experimenting with the three techniques mentioned above.\n",
    "- **Visualization and evaluation:** Visualizing cluster formations and analyzing their quality using metrics such as Silhouette Score.\n",
    "- **Comparison:** Comparing the strengths and limitations of each method.\n",
    "\n",
    "This notebook serves as a foundational exploration of clustering methods, providing insights into how different techniques handle the same dataset.\n",
    "\n",
    "---"
   ]
  },
  {
   "cell_type": "markdown",
   "metadata": {},
   "source": [
    "## **Table of Contents** <br>\n",
    "\n",
    "---"
   ]
  },
  {
   "cell_type": "markdown",
   "metadata": {},
   "source": [
    "<div class=\"alert alert-block alert-success\">\n",
    "<a class=\"anchor\" id=\"importlibraries\">\n",
    "\n",
    "# 1. Import Libraries\n",
    "    \n",
    "</a>\n",
    "<div>"
   ]
  },
  {
   "cell_type": "code",
   "execution_count": 2,
   "metadata": {},
   "outputs": [],
   "source": [
    "import pandas as pd  # Imports the pandas library, used for handling and analyzing structured data in tables (DataFrames).\n",
    "import numpy as np  # Imports numpy, which is helpful for working with numerical data, especially for mathematical functions and arrays.\n",
    "import matplotlib.pyplot as plt  # Imports matplotlib's pyplot module to create plots and charts for visualizing data.\n",
    "import seaborn as sns  # Imports seaborn, a library built on matplotlib, for creating more advanced and visually appealing statistical graphics.\n",
    "from math import ceil  # Imports the ceil function from the math library, which rounds numbers up to the nearest whole number.\n",
    "from scipy.stats import f_oneway # Import the f_oneway function from SciPy for performing a one-way ANOVA test"
   ]
  },
  {
   "cell_type": "markdown",
   "metadata": {},
   "source": [
    "<div class=\"alert alert-block alert-success\">\n",
    "<a class=\"anchor\" id=\"importdataset\">\n",
    "    \n",
    "# 2. Import dataset\n",
    "    \n",
    "</a>\n",
    "<div>"
   ]
  },
  {
   "cell_type": "code",
   "execution_count": 3,
   "metadata": {},
   "outputs": [
    {
     "name": "stderr",
     "output_type": "stream",
     "text": [
      "<>:1: SyntaxWarning: invalid escape sequence '\\P'\n",
      "<>:1: SyntaxWarning: invalid escape sequence '\\P'\n",
      "C:\\Users\\joaom\\AppData\\Local\\Temp\\ipykernel_17092\\3002583927.py:1: SyntaxWarning: invalid escape sequence '\\P'\n",
      "  df = pd.read_csv('..\\Preprocessed_Data\\df.csv', index_col='customer_id')\n",
      "C:\\Users\\joaom\\AppData\\Local\\Temp\\ipykernel_17092\\3002583927.py:1: DtypeWarning: Columns (5) have mixed types. Specify dtype option on import or set low_memory=False.\n",
      "  df = pd.read_csv('..\\Preprocessed_Data\\df.csv', index_col='customer_id')\n"
     ]
    }
   ],
   "source": [
    "df = pd.read_csv('..\\Preprocessed_Data\\df.csv', index_col='customer_id')"
   ]
  },
  {
   "cell_type": "code",
   "execution_count": null,
   "metadata": {},
   "outputs": [],
   "source": []
  }
 ],
 "metadata": {
  "kernelspec": {
   "display_name": "base",
   "language": "python",
   "name": "python3"
  },
  "language_info": {
   "codemirror_mode": {
    "name": "ipython",
    "version": 3
   },
   "file_extension": ".py",
   "mimetype": "text/x-python",
   "name": "python",
   "nbconvert_exporter": "python",
   "pygments_lexer": "ipython3",
   "version": "3.12.4"
  }
 },
 "nbformat": 4,
 "nbformat_minor": 2
}
